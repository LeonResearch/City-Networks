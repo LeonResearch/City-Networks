{
 "cells": [
  {
   "cell_type": "code",
   "execution_count": null,
   "id": "a77d24b4-49e4-4e77-b0a6-f8879bc0e078",
   "metadata": {},
   "outputs": [],
   "source": [
    "import osmnx as ox\n",
    "import matplotlib.pyplot as plt\n",
    "from publib import set_style, fix_style\n",
    "\n",
    "set_style(['article'])  \n",
    "my_font=30"
   ]
  },
  {
   "cell_type": "markdown",
   "id": "28266645-57dd-4565-920e-c67afd823230",
   "metadata": {},
   "source": [
    "## Visualize Cities"
   ]
  },
  {
   "cell_type": "code",
   "execution_count": null,
   "id": "6620404c-dcb7-46f1-a2c6-43380e351588",
   "metadata": {},
   "outputs": [],
   "source": [
    "# It takes a while to load these networks\n",
    "places = ['Paris, France']\n",
    "network_paris = ox.graph_from_place(places, network_type=\"all\", retain_all=False)\n",
    "places = ['Shanghai, China']\n",
    "network_shanghai = ox.graph_from_place(places, network_type=\"all\", retain_all=False)\n",
    "places = ['Los Angeles, California, USA']\n",
    "network_la = ox.graph_from_place(places, network_type=\"drive\", retain_all=False)\n",
    "places = ['London, England, UK', 'City of London, London, England, UK']\n",
    "network_london = ox.graph_from_place(places, network_type=\"drive\", retain_all=False)"
   ]
  },
  {
   "cell_type": "code",
   "execution_count": null,
   "id": "cba48002-94ed-42d3-92f0-8f1ac62c4584",
   "metadata": {},
   "outputs": [],
   "source": [
    "fig, ax = plt.subplots(1,4, figsize=(24, 7), gridspec_kw={'width_ratios': [1, 1, 1, 1]})\n",
    "my_font = 30\n",
    "\n",
    "ox.plot_graph(network_paris, node_size=0, edge_linewidth=1, edge_color='black', edge_alpha=0.5,\n",
    "              ax=ax[0], show=False)\n",
    "\n",
    "ox.plot_graph(network_shanghai, node_size=0, edge_linewidth=1, edge_color='black', edge_alpha=0.5,\n",
    "              ax=ax[1], show=False)\n",
    "\n",
    "ox.plot_graph(network_la, node_size=0, edge_linewidth=1, edge_color='black', edge_alpha=0.5,\n",
    "              ax=ax[2], show=False)\n",
    "\n",
    "ox.plot_graph(network_london, node_size=0, edge_linewidth=1, edge_color='black', edge_alpha=0.5,\n",
    "              ax=ax[3], show=False)\n",
    "\n",
    "ax[0].set_title(f\"Paris\", fontsize=my_font)\n",
    "ax[1].set_title(f\"Shanghai\", fontsize=my_font)\n",
    "ax[2].set_title(f\"Los Angeles\", fontsize=my_font)\n",
    "ax[3].set_title(f\"London\", fontsize=my_font)\n",
    "\n",
    "fig.align_titles()\n",
    "fix_style('article')\n",
    "plt.savefig(f'../Figures/road_networks_visualizations_cities.jpg', bbox_inches='tight')\n",
    "plt.show()\n"
   ]
  },
  {
   "cell_type": "code",
   "execution_count": null,
   "id": "328bcbc4",
   "metadata": {},
   "outputs": [],
   "source": []
  }
 ],
 "metadata": {
  "kernelspec": {
   "display_name": "base",
   "language": "python",
   "name": "python3"
  },
  "language_info": {
   "codemirror_mode": {
    "name": "ipython",
    "version": 3
   },
   "file_extension": ".py",
   "mimetype": "text/x-python",
   "name": "python",
   "nbconvert_exporter": "python",
   "pygments_lexer": "ipython3",
   "version": "3.11.5"
  }
 },
 "nbformat": 4,
 "nbformat_minor": 5
}
