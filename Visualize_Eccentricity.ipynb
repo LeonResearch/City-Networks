{
 "cells": [
  {
   "cell_type": "code",
   "execution_count": 1,
   "metadata": {},
   "outputs": [],
   "source": [
    "import torch\n",
    "import numpy as np\n",
    "import networkx as nx\n",
    "import osmnx as ox\n",
    "import matplotlib.pyplot as plt\n",
    "import seaborn as sns\n",
    "from matplotlib.colors import to_hex\n",
    "from places import generate_places"
   ]
  },
  {
   "cell_type": "code",
   "execution_count": 2,
   "metadata": {},
   "outputs": [],
   "source": [
    "save_path = f\"./figures/\"\n",
    "network_type = \"all\"\n",
    "place_name1 = \"huangpu\" # huangpu westminster\n",
    "place_name2 = \"pasadena\" # pasadena paris_centre\n",
    "\n",
    "data_dir1, places1 = generate_places(place_name1)\n",
    "data_dir2, places2 = generate_places(place_name2)"
   ]
  },
  {
   "cell_type": "code",
   "execution_count": 3,
   "metadata": {},
   "outputs": [
    {
     "data": {
      "text/plain": [
       "(5292, 12420)"
      ]
     },
     "execution_count": 3,
     "metadata": {},
     "output_type": "execute_result"
    }
   ],
   "source": [
    "G1 = ox.graph_from_place(places1, network_type=network_type, retain_all=False)\n",
    "G2 = ox.graph_from_place(places2, network_type=network_type, retain_all=False)\n",
    "len(list(G1.nodes)), len(list(G2.nodes))"
   ]
  },
  {
   "cell_type": "code",
   "execution_count": 4,
   "metadata": {},
   "outputs": [
    {
     "ename": "FileNotFoundError",
     "evalue": "[Errno 2] No such file or directory: './road_data_2025/huangpu/10-chunk_node_labels.pt'",
     "output_type": "error",
     "traceback": [
      "\u001b[0;31m---------------------------------------------------------------------------\u001b[0m",
      "\u001b[0;31mFileNotFoundError\u001b[0m                         Traceback (most recent call last)",
      "Cell \u001b[0;32mIn[4], line 1\u001b[0m\n\u001b[0;32m----> 1\u001b[0m labels1 \u001b[38;5;241m=\u001b[39m torch\u001b[38;5;241m.\u001b[39mload(\u001b[38;5;124mf\u001b[39m\u001b[38;5;124m'\u001b[39m\u001b[38;5;132;01m{\u001b[39;00mdata_dir1\u001b[38;5;132;01m}\u001b[39;00m\u001b[38;5;124m10-chunk_node_labels.pt\u001b[39m\u001b[38;5;124m'\u001b[39m, weights_only\u001b[38;5;241m=\u001b[39m\u001b[38;5;28;01mTrue\u001b[39;00m)\u001b[38;5;241m.\u001b[39mnumpy()\n\u001b[1;32m      2\u001b[0m labels2 \u001b[38;5;241m=\u001b[39m torch\u001b[38;5;241m.\u001b[39mload(\u001b[38;5;124mf\u001b[39m\u001b[38;5;124m'\u001b[39m\u001b[38;5;132;01m{\u001b[39;00mdata_dir2\u001b[38;5;132;01m}\u001b[39;00m\u001b[38;5;124m10-chunk_node_labels.pt\u001b[39m\u001b[38;5;124m'\u001b[39m, weigts_only\u001b[38;5;241m=\u001b[39m\u001b[38;5;28;01mTrue\u001b[39;00m)\u001b[38;5;241m.\u001b[39mnumpy()\n",
      "File \u001b[0;32m~/anaconda3/lib/python3.11/site-packages/torch/serialization.py:1319\u001b[0m, in \u001b[0;36mload\u001b[0;34m(f, map_location, pickle_module, weights_only, mmap, **pickle_load_args)\u001b[0m\n\u001b[1;32m   1316\u001b[0m \u001b[38;5;28;01mif\u001b[39;00m \u001b[38;5;124m\"\u001b[39m\u001b[38;5;124mencoding\u001b[39m\u001b[38;5;124m\"\u001b[39m \u001b[38;5;129;01mnot\u001b[39;00m \u001b[38;5;129;01min\u001b[39;00m pickle_load_args\u001b[38;5;241m.\u001b[39mkeys():\n\u001b[1;32m   1317\u001b[0m     pickle_load_args[\u001b[38;5;124m\"\u001b[39m\u001b[38;5;124mencoding\u001b[39m\u001b[38;5;124m\"\u001b[39m] \u001b[38;5;241m=\u001b[39m \u001b[38;5;124m\"\u001b[39m\u001b[38;5;124mutf-8\u001b[39m\u001b[38;5;124m\"\u001b[39m\n\u001b[0;32m-> 1319\u001b[0m \u001b[38;5;28;01mwith\u001b[39;00m _open_file_like(f, \u001b[38;5;124m\"\u001b[39m\u001b[38;5;124mrb\u001b[39m\u001b[38;5;124m\"\u001b[39m) \u001b[38;5;28;01mas\u001b[39;00m opened_file:\n\u001b[1;32m   1320\u001b[0m     \u001b[38;5;28;01mif\u001b[39;00m _is_zipfile(opened_file):\n\u001b[1;32m   1321\u001b[0m         \u001b[38;5;66;03m# The zipfile reader is going to advance the current file position.\u001b[39;00m\n\u001b[1;32m   1322\u001b[0m         \u001b[38;5;66;03m# If we want to actually tail call to torch.jit.load, we need to\u001b[39;00m\n\u001b[1;32m   1323\u001b[0m         \u001b[38;5;66;03m# reset back to the original position.\u001b[39;00m\n\u001b[1;32m   1324\u001b[0m         orig_position \u001b[38;5;241m=\u001b[39m opened_file\u001b[38;5;241m.\u001b[39mtell()\n",
      "File \u001b[0;32m~/anaconda3/lib/python3.11/site-packages/torch/serialization.py:659\u001b[0m, in \u001b[0;36m_open_file_like\u001b[0;34m(name_or_buffer, mode)\u001b[0m\n\u001b[1;32m    657\u001b[0m \u001b[38;5;28;01mdef\u001b[39;00m \u001b[38;5;21m_open_file_like\u001b[39m(name_or_buffer, mode):\n\u001b[1;32m    658\u001b[0m     \u001b[38;5;28;01mif\u001b[39;00m _is_path(name_or_buffer):\n\u001b[0;32m--> 659\u001b[0m         \u001b[38;5;28;01mreturn\u001b[39;00m _open_file(name_or_buffer, mode)\n\u001b[1;32m    660\u001b[0m     \u001b[38;5;28;01melse\u001b[39;00m:\n\u001b[1;32m    661\u001b[0m         \u001b[38;5;28;01mif\u001b[39;00m \u001b[38;5;124m\"\u001b[39m\u001b[38;5;124mw\u001b[39m\u001b[38;5;124m\"\u001b[39m \u001b[38;5;129;01min\u001b[39;00m mode:\n",
      "File \u001b[0;32m~/anaconda3/lib/python3.11/site-packages/torch/serialization.py:640\u001b[0m, in \u001b[0;36m_open_file.__init__\u001b[0;34m(self, name, mode)\u001b[0m\n\u001b[1;32m    639\u001b[0m \u001b[38;5;28;01mdef\u001b[39;00m \u001b[38;5;21m__init__\u001b[39m(\u001b[38;5;28mself\u001b[39m, name, mode):\n\u001b[0;32m--> 640\u001b[0m     \u001b[38;5;28msuper\u001b[39m()\u001b[38;5;241m.\u001b[39m\u001b[38;5;21m__init__\u001b[39m(\u001b[38;5;28mopen\u001b[39m(name, mode))\n",
      "\u001b[0;31mFileNotFoundError\u001b[0m: [Errno 2] No such file or directory: './road_data_2025/huangpu/10-chunk_node_labels.pt'"
     ]
    }
   ],
   "source": [
    "labels1 = torch.load(f'{data_dir1}10-chunk_node_labels.pt', weights_only=True).numpy()\n",
    "labels2 = torch.load(f'{data_dir2}10-chunk_node_labels.pt', weigts_only=True).numpy()"
   ]
  },
  {
   "cell_type": "code",
   "execution_count": null,
   "metadata": {},
   "outputs": [],
   "source": [
    "def get_colors(labels):\n",
    "    # cmap = sns.color_palette(\"Blues_r\", as_cmap=True)\n",
    "    cmap = sns.color_palette(\"rocket\", as_cmap=True)\n",
    "    palette = cmap(np.linspace(0.1, 0.85, 10))\n",
    "    palette_hex = [to_hex(color) for color in palette]\n",
    "    color_array = [palette_hex[index] for index in labels]\n",
    "    return color_array"
   ]
  },
  {
   "cell_type": "code",
   "execution_count": null,
   "metadata": {},
   "outputs": [],
   "source": [
    "my_font = 23\n",
    "node_size = 20\n",
    "fig, ax = plt.subplots(1,2, figsize=(24, 7), gridspec_kw={'width_ratios': [1, 1]})\n",
    "ox.plot_graph(\n",
    "    G1, ax=ax[0], node_size=node_size+10, node_color=get_colors(labels1), node_alpha=0.5,\n",
    "    edge_linewidth=1, edge_color='black', edge_alpha=0.5, show=False, \n",
    ")\n",
    "ox.plot_graph(\n",
    "    G2, ax=ax[1], node_size=node_size, node_color=get_colors(labels2), node_alpha=0.5,\n",
    "    edge_linewidth=1, edge_color='black', edge_alpha=0.5, show=False, \n",
    ")\n",
    "\n",
    "ax[0].set_title(f\"(a) Huangpu, Shanghai\", fontsize=my_font)\n",
    "ax[1].set_title(f\"(b) Pasadena, Los Angeles\", fontsize=my_font)\n",
    "\n",
    "\n",
    "plt.tight_layout(pad=10.0)\n",
    "plt.savefig(f\"./label_visual_map_{place_name1}_and_{place_name2}.jpg\")\n",
    "plt.show()"
   ]
  },
  {
   "cell_type": "code",
   "execution_count": null,
   "metadata": {},
   "outputs": [],
   "source": [
    "dataset_name = \"paris\"\n",
    "dataset_path = f'./data/{dataset_name}'\n",
    "\n",
    "\n",
    "d_labels = {\n",
    "    \"paris\":\"Paris\", \"shanghai\":\"Shanghai\", \"la\":\"L.A.\", \"london\":\"London\",\n",
    "}\n",
    "\n",
    "d_color = {\n",
    "    \"paris\":\"#c5373e\", # Red, \"#9c251c\", rgb(197, 55, 62)\n",
    "    \"shanghai\":   \"#006eae\", # Blue, \"#00498d\", rgb(0, 110, 174)\n",
    "    \"la\":  \"#439130\", # Green, \"#1c6e2b\",   rgb(67, 145, 48)\n",
    "    \"london\":   \"#6e788e\", # Grey # \"#43536a\",   rgb(110, 120, 142)\n",
    "}\n",
    "\n",
    "d_marker = {\"paris\":'x', \"shanghai\":'o', \"la\":'^', \"london\":\"s\"}\n",
    "\n",
    "\n",
    "eccentricities = {}\n",
    "for dataset_name in [\"paris\", \"shanghai\", \"la\", \"london\"]:\n",
    "    dataset_path = f'./data/{dataset_name}'\n",
    "    eccentricities[dataset_name] = torch.load(f'{dataset_path}/16-hop_eccentricities.pt')"
   ]
  },
  {
   "cell_type": "code",
   "execution_count": null,
   "metadata": {},
   "outputs": [],
   "source": [
    "num_bins = 100\n",
    "fontsize = 26\n",
    "\n",
    "# Create the figure and axis\n",
    "fig, ax = plt.subplots(1, 1, figsize=(11, 8))\n",
    "\n",
    "# Plot histograms for each dataset on the same subplot\n",
    "for dataset_name in [\"paris\", \"shanghai\", \"la\", \"london\"]:\n",
    "    ax.hist(\n",
    "        x=eccentricities[dataset_name]/1000,\n",
    "        bins=num_bins,\n",
    "        range=(0, 10),  # Limit the x-axis to focus on the main distribution\n",
    "\n",
    "        density=True,\n",
    "        alpha=0.7,\n",
    "        label=d_labels[dataset_name],\n",
    "        color=d_color[dataset_name],\n",
    "        edgecolor='black'\n",
    "    )\n",
    "\n",
    "\n",
    "# Set labels and title\n",
    "ax.set_xlabel(\"16-hop eccentricity (km)\", fontsize=fontsize)\n",
    "ax.set_ylabel(\"Density\", fontsize=fontsize)\n",
    "ax.set_title(\"Distributions of node eccentricity estimations\", fontsize=fontsize + 2)\n",
    "ax.tick_params(axis='both', labelsize=fontsize - 3)\n",
    "# ax.xaxis.set_major_formatter(ticker.FormatStrFormatter('%.2f'))\n",
    "\n",
    "# Add gridlines for readability\n",
    "ax.grid(visible=True, linestyle='--', alpha=0.6)\n",
    "\n",
    "# Add legend\n",
    "ax.legend(fontsize=fontsize - 5, frameon=True)\n",
    "\n",
    "# Apply custom styling and adjust layout\n",
    "plt.tight_layout()\n",
    "plt.savefig(f\"./label_eccentricity_distributions.jpg\", bbox_inches='tight')\n",
    "plt.show()"
   ]
  },
  {
   "cell_type": "code",
   "execution_count": null,
   "metadata": {},
   "outputs": [],
   "source": []
  }
 ],
 "metadata": {
  "kernelspec": {
   "display_name": "base",
   "language": "python",
   "name": "python3"
  },
  "language_info": {
   "codemirror_mode": {
    "name": "ipython",
    "version": 3
   },
   "file_extension": ".py",
   "mimetype": "text/x-python",
   "name": "python",
   "nbconvert_exporter": "python",
   "pygments_lexer": "ipython3",
   "version": "3.11.5"
  }
 },
 "nbformat": 4,
 "nbformat_minor": 2
}
